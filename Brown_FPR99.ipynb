{
 "cells": [
  {
   "cell_type": "code",
   "execution_count": null,
   "metadata": {},
   "outputs": [],
   "source": [
    "!pip install git+https://github.com/kornia/kornia@align_corners=False\n",
    "!pip install pytorch_metric_learning"
   ]
  },
  {
   "cell_type": "code",
   "execution_count": 2,
   "metadata": {},
   "outputs": [],
   "source": [
    "%matplotlib inline \n",
    "%load_ext autoreload\n",
    "%autoreload 2\n",
    "import random\n",
    "import numpy as np\n",
    "from fastprogress.fastprogress import master_bar, progress_bar\n",
    "from fastai2.basics import *\n",
    "from fastcore import *\n",
    "from fastai2.vision.all import *\n",
    "from fastai2.callback.all import *\n",
    "from fastprogress import fastprogress\n",
    "from fastai2.callback.mixup import *\n",
    "from fastscript import *\n",
    "import torchvision as tv\n",
    "import kornia as K\n",
    "\n",
    "def imshow_torch(tensor, *kwargs):\n",
    "    plt.figure()\n",
    "    plt.imshow(K.tensor_to_image(tensor), *kwargs)\n",
    "    return"
   ]
  },
  {
   "cell_type": "code",
   "execution_count": 31,
   "metadata": {},
   "outputs": [],
   "source": [
    "train_ds_name = 'liberty'\n",
    "val_ds_name = 'notredame'\n",
    "val_ds_name2 = 'yosemite'\n",
    "\n",
    "ds_root = '/home/old-ufo/storage/datasets/UBC-Phototour-Patches-Torch'"
   ]
  },
  {
   "cell_type": "code",
   "execution_count": null,
   "metadata": {},
   "outputs": [],
   "source": []
  },
  {
   "cell_type": "code",
   "execution_count": null,
   "metadata": {},
   "outputs": [],
   "source": []
  },
  {
   "cell_type": "markdown",
   "metadata": {},
   "source": [
    "First, we will define modified dataset to match HardNet implementation.\n",
    "Specifically, it generates pairs of the same-class images for the batch."
   ]
  },
  {
   "cell_type": "code",
   "execution_count": 4,
   "metadata": {},
   "outputs": [],
   "source": [
    "class PairPhotoTour(tv.datasets.PhotoTour):\n",
    "    \"\"\"\n",
    "    From the PhotoTour Dataset it generates pairs of same class in a batch\n",
    "    Based on code from https://github.com/vbalnt/tfeat\n",
    "    \"\"\"\n",
    "    def __init__(self,\n",
    "                 train_mode=True, # We need different behavoir for train and test mode\n",
    "                 bs = 1024, #batch size. There will be only 2 samples of same class in the batch.\n",
    "                 n_pairs = 1024*5000, #It is simple to have n_pairs to be divisible by bs\n",
    "                 *arg, **kw):\n",
    "        super(PairPhotoTour, self).__init__(*arg, **kw)\n",
    "        self.train_mode = train_mode\n",
    "        self.n_pairs = n_pairs\n",
    "        self.bs = bs\n",
    "        # Dict: indexes of the class samples by class label\n",
    "        self.indices_dict = self.create_indices(self.labels.numpy())\n",
    "        if self.train_mode:\n",
    "            self.generate_pairs()\n",
    "        return\n",
    "    \n",
    "    def create_indices(self, labels):\n",
    "        inds = dict()\n",
    "        for idx, ind in enumerate(labels):\n",
    "            if ind not in inds:\n",
    "                inds[ind] = []\n",
    "            inds[ind].append(idx)\n",
    "        return inds\n",
    "\n",
    "    def generate_pairs(self):\n",
    "        labels = self.labels\n",
    "        num_pairs = self.n_pairs\n",
    "        self.pairs = []\n",
    "        indices_dict = self.indices_dict\n",
    "        classes = np.unique(self.labels.numpy())\n",
    "        n_classes = classes.shape[0]\n",
    "        num_epochs = num_pairs // n_classes + 1\n",
    "        print('Generating {} pairs for training'.format(self.n_pairs))\n",
    "        for ep in progress_bar(range(num_epochs)):\n",
    "            classes_perm = np.random.permutation(classes)\n",
    "            for c in classes_perm:\n",
    "                samples_in_class = indices_dict[c]\n",
    "                if len(samples_in_class) > 2:\n",
    "                    random.shuffle(samples_in_class)\n",
    "                self.pairs.append([*samples_in_class[:2], c])\n",
    "        self.pairs = torch.LongTensor(self.pairs)[:num_pairs]\n",
    "        return \n",
    "\n",
    "    def __getitem__(self, index):\n",
    "        if not self.train_mode:\n",
    "            m = self.matches[index]\n",
    "            img1 = self.data[m[0]]\n",
    "            img2 = self.data[m[1]]\n",
    "            # Output: two concatenated  an match/non-match label, as definited in Brown at.al 2010\n",
    "            return img1.unsqueeze(0), img2.unsqueeze(0), m[2] \n",
    "        t = self.pairs[index]\n",
    "        img_a, img_p, label = self.data[t[0]], self.data[t[1]], t[2]\n",
    "        # Output: two concatenated images of the same class and class label\n",
    "        return img_a.unsqueeze(0), img_p.unsqueeze(0), label\n",
    "\n",
    "    def __len__(self):\n",
    "        if self.train_mode:\n",
    "            return self.pairs.size(0)\n",
    "        else:\n",
    "            return self.matches.size(0)"
   ]
  },
  {
   "cell_type": "markdown",
   "metadata": {},
   "source": [
    "We will do augmentation on GPU with [kornia](https://github.com/kornia/kornia)"
   ]
  },
  {
   "cell_type": "code",
   "execution_count": 5,
   "metadata": {},
   "outputs": [],
   "source": [
    "orig_size = 64\n",
    "out_size = 32\n",
    "sigma = orig_size / (2.*out_size)\n",
    "\n",
    "train_aug = nn.Sequential( \n",
    "    K.filters.GaussianBlur2d((7,7),(0.6,  0.6)), # Blur for proper downscale\n",
    "    torch.nn.ReplicationPad2d(8), # otherwise small black corners appear\n",
    "    K.augmentation.RandomAffine(degrees=(-5.0, 5.0),\n",
    "                                scale=(0.9, 1.0),\n",
    "                                shear=(5.0, 5.0),\n",
    "                                translate=(0.03, 0.03)),\n",
    "    K.augmentation.CenterCrop(orig_size),\n",
    "    K.Resize((out_size,out_size)))\n",
    "\n",
    "test_aug = nn.Sequential( \n",
    "    K.filters.GaussianBlur2d((7,7),(0.6,  0.6)), # Blur for proper downscale\n",
    "    K.Resize((out_size,out_size)))\n"
   ]
  },
  {
   "cell_type": "code",
   "execution_count": 6,
   "metadata": {},
   "outputs": [],
   "source": [
    "from fastai2  import *\n",
    "# We need to transform all images\n",
    "class TupleAug(ItemTransform):\n",
    "    def __init__(self, tfm):\n",
    "        self.tfm = tfm\n",
    "    def encodes(self, o): \n",
    "        out = []\n",
    "        with torch.no_grad():\n",
    "            for i,oi in enumerate(o):\n",
    "                if i < len(o) - 1:\n",
    "                    out.append(self.tfm(oi.float()))\n",
    "                else:\n",
    "                    out.append(oi)\n",
    "        return out\n",
    "class ReshapeTupleToBatch(ItemTransform):\n",
    "    def encodes(self, o): \n",
    "        return torch.cat(o[:-1],dim=0), o[-1].repeat(len(o)-1)    "
   ]
  },
  {
   "cell_type": "code",
   "execution_count": 7,
   "metadata": {},
   "outputs": [],
   "source": [
    "class BatchRandomFlip(ItemTransform):\n",
    "    def encodes(self, o): \n",
    "        mask = torch.randint_like(o[-1], 0,2) > 0\n",
    "        out = [] \n",
    "        with torch.no_grad():\n",
    "            for oi in o[:-1]:\n",
    "                out.append(oi)\n",
    "                out[-1].masked_scatter_(mask.view(-1,1,1,1), oi.flip(3))\n",
    "            mask2 = torch.randint_like(o[-1], 0,2) > 0\n",
    "            for i, oi in enumerate(out):\n",
    "                out[i].masked_scatter_(mask2.view(-1,1,1,1), oi[mask2].flip(3))\n",
    "        out.append(o[-1])\n",
    "        return out"
   ]
  },
  {
   "cell_type": "code",
   "execution_count": null,
   "metadata": {},
   "outputs": [],
   "source": []
  },
  {
   "cell_type": "markdown",
   "metadata": {},
   "source": [
    "Lets create data loaders"
   ]
  },
  {
   "cell_type": "code",
   "execution_count": 32,
   "metadata": {},
   "outputs": [
    {
     "name": "stdout",
     "output_type": "stream",
     "text": [
      "Generating 5120000 pairs for training\n"
     ]
    },
    {
     "data": {
      "text/html": [
       "\n",
       "    <div>\n",
       "        <style>\n",
       "            /* Turns off some styling */\n",
       "            progress {\n",
       "                /* gets rid of default border in Firefox and Opera. */\n",
       "                border: none;\n",
       "                /* Needs to be in here for Safari polyfill so background images work as expected. */\n",
       "                background-size: auto;\n",
       "            }\n",
       "            .progress-bar-interrupted, .progress-bar-interrupted::-webkit-progress-bar {\n",
       "                background: #F44336;\n",
       "            }\n",
       "        </style>\n",
       "      <progress value='32' class='' max='32', style='width:300px; height:20px; vertical-align: middle;'></progress>\n",
       "      100.00% [32/32 00:12<00:00]\n",
       "    </div>\n",
       "    "
      ],
      "text/plain": [
       "<IPython.core.display.HTML object>"
      ]
     },
     "metadata": {},
     "output_type": "display_data"
    },
    {
     "data": {
      "image/png": "[encoded data removed]",
      "text/plain": [
       "<Figure size 432x288 with 1 Axes>"
      ]
     },
     "metadata": {
      "needs_background": "light"
     },
     "output_type": "display_data"
    },
    {
     "data": {
      "image/png": "[encoded data removed]",
      "text/plain": [
       "<Figure size 432x288 with 1 Axes>"
      ]
     },
     "metadata": {
      "needs_background": "light"
     },
     "output_type": "display_data"
    }
   ],
   "source": [
    "BS = 1024\n",
    "TEST_BS = 128\n",
    "N_WORKERS = 4\n",
    "\n",
    "ds_train = PairPhotoTour(root=ds_root,\n",
    "                              name=train_ds_name,\n",
    "                              bs=BS,\n",
    "                              n_pairs=5000*BS,  \n",
    "                              train_mode=True)\n",
    "\n",
    "ds_val = PairPhotoTour(root=ds_root,\n",
    "                      name=val_ds_name,\n",
    "                      train_mode=False)\n",
    "ds_val2 = PairPhotoTour(root=ds_root,\n",
    "                      name=val_ds_name2,\n",
    "                      train_mode=False)\n",
    "\n",
    "\n",
    "dl_train = TfmdDL(ds_train,\n",
    "                 device=torch.device('cuda:0'),\n",
    "                 after_item=[ToTensor], \n",
    "                 after_batch=[TupleAug(train_aug), # augmening both patches in pair\n",
    "                              BatchRandomFlip,  # random flip\n",
    "                              ReshapeTupleToBatch], #two patches -> single tensor\n",
    "                 bs=BS, num_workers=N_WORKERS)\n",
    "\n",
    "dl_val = TfmdDL(ds_val,\n",
    "                 device=torch.device('cuda:0'),\n",
    "                 after_item=[ToTensor], \n",
    "                 after_batch=[TupleAug(test_aug), ReshapeTupleToBatch],\n",
    "                 bs=TEST_BS, num_workers=N_WORKERS)\n",
    "\n",
    "dl_val2 = TfmdDL(ds_val2,\n",
    "                 device=torch.device('cuda:0'),\n",
    "                 after_item=[ToTensor], \n",
    "                 after_batch=[TupleAug(test_aug), ReshapeTupleToBatch],\n",
    "                 bs=TEST_BS, num_workers=N_WORKERS)\n",
    "\n",
    "patches, labels  = dl_train.one_batch()\n",
    "\n",
    "imshow_torch(patches[0])\n",
    "imshow_torch(patches[0+BS])\n"
   ]
  },
  {
   "cell_type": "markdown",
   "metadata": {},
   "source": []
  },
  {
   "cell_type": "code",
   "execution_count": 9,
   "metadata": {},
   "outputs": [],
   "source": [
    "from arch import HardNet, SOSNet32x32, TNet"
   ]
  },
  {
   "cell_type": "code",
   "execution_count": 16,
   "metadata": {},
   "outputs": [
    {
     "name": "stdout",
     "output_type": "stream",
     "text": [
      "--2020-04-06 20:21:58--  https://github.com/vbalnt/tfeat/raw/master/pretrained-models/tfeat-liberty.params\n",
      "Resolving github.com (github.com)... 140.82.118.4\n",
      "Connecting to github.com (github.com)|140.82.118.4|:443... connected.\n",
      "HTTP request sent, awaiting response... 302 Found\n",
      "Location: https://raw.githubusercontent.com/vbalnt/tfeat/master/pretrained-models/tfeat-liberty.params [following]\n",
      "--2020-04-06 20:21:58--  https://raw.githubusercontent.com/vbalnt/tfeat/master/pretrained-models/tfeat-liberty.params\n",
      "Resolving raw.githubusercontent.com (raw.githubusercontent.com)... 151.101.112.133\n",
      "Connecting to raw.githubusercontent.com (raw.githubusercontent.com)|151.101.112.133|:443... connected.\n",
      "HTTP request sent, awaiting response... 200 OK\n",
      "Length: 2400533 (2,3M) [application/octet-stream]\n",
      "Saving to: ‘tfeat-liberty.params’\n",
      "\n",
      "tfeat-liberty.param 100%[===================>]   2,29M  8,03MB/s    in 0,3s    \n",
      "\n",
      "2020-04-06 20:22:00 (8,03 MB/s) - ‘tfeat-liberty.params’ saved [2400533/2400533]\n",
      "\n"
     ]
    }
   ],
   "source": [
    "!wget https://github.com/scape-research/SOSNet/raw/master/sosnet-weights/sosnet-32x32-liberty.pth\n",
    "!wget https://github.com/vbalnt/tfeat/raw/master/pretrained-models/tfeat-liberty.params\n",
    "!wget https://github.com/DagnyT/hardnet/raw/master/pretrained/train_liberty_with_aug/checkpoint_liberty_with_aug.pth"
   ]
  },
  {
   "cell_type": "code",
   "execution_count": 34,
   "metadata": {},
   "outputs": [
    {
     "name": "stdout",
     "output_type": "stream",
     "text": [
      "--2020-04-06 20:46:44--  https://github.com/lg-zhang/dynamic-soft-margin-pytorch/raw/master/pretrained/liberty_float/model.state_dict\n",
      "Resolving github.com (github.com)... 140.82.118.3\n",
      "Connecting to github.com (github.com)|140.82.118.3|:443... connected.\n",
      "HTTP request sent, awaiting response... 302 Found\n",
      "Location: https://raw.githubusercontent.com/lg-zhang/dynamic-soft-margin-pytorch/master/pretrained/liberty_float/model.state_dict [following]\n",
      "--2020-04-06 20:46:45--  https://raw.githubusercontent.com/lg-zhang/dynamic-soft-margin-pytorch/master/pretrained/liberty_float/model.state_dict\n",
      "Resolving raw.githubusercontent.com (raw.githubusercontent.com)... 151.101.112.133\n",
      "Connecting to raw.githubusercontent.com (raw.githubusercontent.com)|151.101.112.133|:443... connected.\n",
      "HTTP request sent, awaiting response... 200 OK\n",
      "Length: 5347698 (5,1M) [application/octet-stream]\n",
      "Saving to: ‘model.state_dict’\n",
      "\n",
      "model.state_dict    100%[===================>]   5,10M  11,9MB/s    in 0,4s    \n",
      "\n",
      "2020-04-06 20:46:47 (11,9 MB/s) - ‘model.state_dict’ saved [5347698/5347698]\n",
      "\n"
     ]
    }
   ],
   "source": [
    "!wget https://github.com/lg-zhang/dynamic-soft-margin-pytorch/raw/master/pretrained/liberty_float/model.state_dict"
   ]
  },
  {
   "cell_type": "code",
   "execution_count": 45,
   "metadata": {},
   "outputs": [],
   "source": [
    "\n",
    "weights = ['model.state_dict',\n",
    "           'HardNetLib_fastai2KorniaAug',\n",
    "           'checkpoint_liberty_with_aug.pth',\n",
    "           'sosnet-32x32-liberty.pth', \n",
    "           'tfeat-liberty.params']\n",
    "models = [HardNet(), \n",
    "          HardNet(), \n",
    "          HardNet(),\n",
    "          SOSNet32x32(), \n",
    "          TNet()]"
   ]
  },
  {
   "cell_type": "code",
   "execution_count": null,
   "metadata": {},
   "outputs": [],
   "source": []
  },
  {
   "cell_type": "markdown",
   "metadata": {},
   "source": []
  },
  {
   "cell_type": "code",
   "execution_count": 42,
   "metadata": {},
   "outputs": [],
   "source": [
    "# Loss function\n",
    "from pytorch_metric_learning import losses, miners\n",
    "\n",
    "LossFn = losses.TripletMarginLoss(margin = 1.0)\n",
    "Miner = miners.BatchHardMiner()\n",
    "\n",
    "def loss_hard_triplet_margin(x, y):\n",
    "    hard_pairs = Miner(x, y)\n",
    "    loss = LossFn(x, y, hard_pairs)\n",
    "    return loss"
   ]
  },
  {
   "cell_type": "markdown",
   "metadata": {},
   "source": [
    "Validation metric - False positive rate at recall = 95%"
   ]
  },
  {
   "cell_type": "code",
   "execution_count": 43,
   "metadata": {},
   "outputs": [],
   "source": [
    "#Original FPR95\n",
    "def ErrorRateAt95Recall(distances, labels, recall_point=0.95):\n",
    "    '''From https://github.com/DagnyT/hardnet/blob/master/code/EvalMetrics.py'''\n",
    "    #recall_point = 0.95\n",
    "    labels = labels[np.argsort(distances)]\n",
    "    # Sliding threshold: get first index where recall >= recall_point. \n",
    "    # This is the index where the number of elements with label==1 below the threshold reaches a fraction of \n",
    "    # 'recall_point' of the total number of elements with label==1. \n",
    "    # (np.argmax returns the first occurrence of a '1' in a bool array). \n",
    "    threshold_index = np.argmax(np.cumsum(labels) >= recall_point * np.sum(labels)) \n",
    "    FP = np.sum(labels[:threshold_index] == 0) # Below threshold (i.e., labelled positive), but should be negative\n",
    "    TN = np.sum(labels[threshold_index:] == 0) # Above threshold (i.e., labelled negative), and should be negative\n",
    "    return float(FP) / float(FP + TN)\n",
    "\n",
    "\n",
    "class FPR(Metric):\n",
    "    def __init__(self, r=0.95):\n",
    "        self.R = r\n",
    "    \"Average the values of `func` taking into account potential different batch sizes\"\n",
    "    def reset(self):           self.dists, self.labels = [], []\n",
    "    def accumulate(self, learn):\n",
    "        x = learn.pred\n",
    "        N = x.size(0)\n",
    "        assert N % 2 == 0\n",
    "        N_2 = N // 2\n",
    "        targ = learn.yb[0][:N_2]\n",
    "        with torch.no_grad():\n",
    "            dist = torch.norm(x[:N_2]-x[N_2:],p=2,dim=1)\n",
    "        self.dists.append(dist.cpu().detach().view(-1))\n",
    "        self.labels.append(targ.cpu().detach().view(-1))\n",
    "        return\n",
    "    @property\n",
    "    def value(self):\n",
    "        if len(self.dists) == 0: return\n",
    "        if len(self.labels) == 0: return\n",
    "        dists = torch.cat(self.dists, dim=0)\n",
    "        labels = torch.cat(self.labels, dim=0)\n",
    "        return ErrorRateAt95Recall(dists.detach().cpu().view(-1).numpy(), labels.detach().cpu().view(-1).numpy(), self.R)\n",
    "    @property\n",
    "    def name(self):  self.__name__+str(self.R)[2:5]"
   ]
  },
  {
   "cell_type": "code",
   "execution_count": 49,
   "metadata": {
    "scrolled": false
   },
   "outputs": [
    {
     "name": "stdout",
     "output_type": "stream",
     "text": [
      "Trained on Liberty, tested on Notredame\n"
     ]
    },
    {
     "data": {
      "text/html": [],
      "text/plain": [
       "<IPython.core.display.HTML object>"
      ]
     },
     "metadata": {},
     "output_type": "display_data"
    },
    {
     "name": "stdout",
     "output_type": "stream",
     "text": [
      "Dynamic SoftMargin\n",
      "FPR90 = 0.09%, FPR95 = 0.34%, FPR97 = 1.74%, FPR99 = 23.34%\n"
     ]
    },
    {
     "data": {
      "text/html": [],
      "text/plain": [
       "<IPython.core.display.HTML object>"
      ]
     },
     "metadata": {},
     "output_type": "display_data"
    },
    {
     "name": "stdout",
     "output_type": "stream",
     "text": [
      "Fastai2 HardNet with Kornia aug\n",
      "FPR90 = 0.11%, FPR95 = 0.56%, FPR97 = 2.18%, FPR99 = 24.14%\n"
     ]
    },
    {
     "data": {
      "text/html": [],
      "text/plain": [
       "<IPython.core.display.HTML object>"
      ]
     },
     "metadata": {},
     "output_type": "display_data"
    },
    {
     "name": "stdout",
     "output_type": "stream",
     "text": [
      "HardNet\n",
      "FPR90 = 0.10%, FPR95 = 0.53%, FPR97 = 2.75%, FPR99 = 32.02%\n"
     ]
    },
    {
     "data": {
      "text/html": [],
      "text/plain": [
       "<IPython.core.display.HTML object>"
      ]
     },
     "metadata": {},
     "output_type": "display_data"
    },
    {
     "name": "stdout",
     "output_type": "stream",
     "text": [
      "SOSNet32x32\n",
      "FPR90 = 0.09%, FPR95 = 0.39%, FPR97 = 1.90%, FPR99 = 24.76%\n"
     ]
    },
    {
     "data": {
      "text/html": [],
      "text/plain": [
       "<IPython.core.display.HTML object>"
      ]
     },
     "metadata": {},
     "output_type": "display_data"
    },
    {
     "name": "stdout",
     "output_type": "stream",
     "text": [
      "TNet\n",
      "FPR90 = 0.59%, FPR95 = 2.71%, FPR97 = 6.69%, FPR99 = 24.02%\n"
     ]
    }
   ],
   "source": [
    "data = DataLoaders(dl_train, dl_val).cuda()\n",
    "count = 0\n",
    "print (\"Trained on Liberty, tested on Notredame\")\n",
    "for model, weight in zip(models, weights):\n",
    "    learn = Learner(data, model, loss_func = loss_hard_triplet_margin,\n",
    "                    metrics=[FPR(0.90),\n",
    "                             FPR(0.95),\n",
    "                             FPR(0.97),\n",
    "                             FPR(0.99)])\n",
    "    if count == 1:\n",
    "        learn.load(weight)\n",
    "    else:\n",
    "        chpt = torch.load(weight)\n",
    "        try:\n",
    "            learn.model.load_state_dict(chpt['state_dict'])\n",
    "        except:\n",
    "            learn.model.load_state_dict(chpt)\n",
    "    learn.model.eval()\n",
    "    res = learn.validate()\n",
    "    if count == 0:\n",
    "        print (\"Dynamic SoftMargin\")\n",
    "    elif count == 1:\n",
    "        print (\"Fastai2 HardNet with Kornia aug\")\n",
    "    else:\n",
    "        print (model.__class__.__name__)\n",
    "    count+=1\n",
    "    print (f'FPR90 = {res[1]*100.:.2f}%, FPR95 = {res[2]*100.:.2f}%, FPR97 = {res[3]*100.:.2f}%, FPR99 = {res[4]*100:.2f}%')\n",
    "    \n",
    "    \n",
    "    "
   ]
  },
  {
   "cell_type": "code",
   "execution_count": null,
   "metadata": {},
   "outputs": [],
   "source": []
  },
  {
   "cell_type": "code",
   "execution_count": 52,
   "metadata": {},
   "outputs": [
    {
     "name": "stdout",
     "output_type": "stream",
     "text": [
      "Trained on Liberty, tested on Yosemite\n"
     ]
    },
    {
     "data": {
      "text/html": [],
      "text/plain": [
       "<IPython.core.display.HTML object>"
      ]
     },
     "metadata": {},
     "output_type": "display_data"
    },
    {
     "name": "stdout",
     "output_type": "stream",
     "text": [
      "Dynamic SoftMargin\n",
      "FPR90 = 0.11%, FPR95 = 1.37%, FPR97 = 5.13%, FPR99 = 29.89%\n"
     ]
    },
    {
     "data": {
      "text/html": [],
      "text/plain": [
       "<IPython.core.display.HTML object>"
      ]
     },
     "metadata": {},
     "output_type": "display_data"
    },
    {
     "name": "stdout",
     "output_type": "stream",
     "text": [
      "Fastai2 HardNet with Kornia aug\n",
      "FPR90 = 0.48%, FPR95 = 3.04%, FPR97 = 8.52%, FPR99 = 33.09%\n"
     ]
    },
    {
     "data": {
      "text/html": [],
      "text/plain": [
       "<IPython.core.display.HTML object>"
      ]
     },
     "metadata": {},
     "output_type": "display_data"
    },
    {
     "name": "stdout",
     "output_type": "stream",
     "text": [
      "HardNet\n",
      "FPR90 = 0.13%, FPR95 = 1.85%, FPR97 = 6.60%, FPR99 = 32.30%\n"
     ]
    },
    {
     "data": {
      "text/html": [],
      "text/plain": [
       "<IPython.core.display.HTML object>"
      ]
     },
     "metadata": {},
     "output_type": "display_data"
    },
    {
     "name": "stdout",
     "output_type": "stream",
     "text": [
      "SOSNet32x32\n",
      "FPR90 = 0.08%, FPR95 = 1.10%, FPR97 = 4.59%, FPR99 = 29.34%\n"
     ]
    },
    {
     "data": {
      "text/html": [],
      "text/plain": [
       "<IPython.core.display.HTML object>"
      ]
     },
     "metadata": {},
     "output_type": "display_data"
    },
    {
     "name": "stdout",
     "output_type": "stream",
     "text": [
      "TNet\n",
      "FPR90 = 2.12%, FPR95 = 8.47%, FPR97 = 17.72%, FPR99 = 44.10%\n"
     ]
    }
   ],
   "source": [
    "data = DataLoaders(dl_train, dl_val2).cuda()\n",
    "count = 0\n",
    "print (\"Trained on Liberty, tested on Yosemite\")\n",
    "for model, weight in zip(models, weights):\n",
    "    learn = Learner(data, model, loss_func = loss_hard_triplet_margin,\n",
    "                    metrics=[FPR(0.90),\n",
    "                             FPR(0.95),\n",
    "                             FPR(0.97),\n",
    "                             FPR(0.99)])\n",
    "    if count == 1:\n",
    "        learn.load(weight)\n",
    "    else:\n",
    "        chpt = torch.load(weight)\n",
    "        try:\n",
    "            learn.model.load_state_dict(chpt['state_dict'])\n",
    "        except:\n",
    "            learn.model.load_state_dict(chpt)\n",
    "    learn.model.eval()\n",
    "    res = learn.validate()\n",
    "    if count == 0:\n",
    "        print (\"Dynamic SoftMargin\")\n",
    "    elif count == 1:\n",
    "        print (\"Fastai2 HardNet with Kornia aug\")\n",
    "    else:\n",
    "        print (model.__class__.__name__)\n",
    "    count+=1\n",
    "    print (f'FPR90 = {res[1]*100.:.2f}%, FPR95 = {res[2]*100.:.2f}%, FPR97 = {res[3]*100.:.2f}%, FPR99 = {res[4]*100:.2f}%')\n",
    "    "
   ]
  }
 ],
 "metadata": {
  "kernelspec": {
   "display_name": "Python 3",
   "language": "python",
   "name": "python3"
  },
  "language_info": {
   "codemirror_mode": {
    "name": "ipython",
    "version": 3
   },
   "file_extension": ".py",
   "mimetype": "text/x-python",
   "name": "python",
   "nbconvert_exporter": "python",
   "pygments_lexer": "ipython3",
   "version": "3.7.6"
  }
 },
 "nbformat": 4,
 "nbformat_minor": 4
}
