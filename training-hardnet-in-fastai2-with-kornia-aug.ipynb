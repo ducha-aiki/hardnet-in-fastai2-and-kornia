{
 "cells": [
  {
   "cell_type": "code",
   "execution_count": 1,
   "metadata": {},
   "outputs": [
    {
     "name": "stdout",
     "output_type": "stream",
     "text": [
      "Collecting git+https://github.com/kornia/kornia@align_corners=False\n",
      "  Cloning https://github.com/kornia/kornia (to revision align_corners=False) to /tmp/pip-req-build-j_qmu_z2\n",
      "  Running command git clone -q https://github.com/kornia/kornia /tmp/pip-req-build-j_qmu_z2\n",
      "  Running command git checkout -b align_corners=False --track origin/align_corners=False\n",
      "  Switched to a new branch 'align_corners=False'\n",
      "  Branch align_corners=False set up to track remote branch align_corners=False from origin.\n",
      "Requirement already satisfied (use --upgrade to upgrade): kornia==0.2.0+cabdd68 from git+https://github.com/kornia/kornia@align_corners=False in /home/old-ufo/dev/fresh-kornia\n",
      "Requirement already satisfied: torch>=1.0.0 in /home/old-ufo/storage/anaconda3/envs/fastai2/lib/python3.7/site-packages (from kornia==0.2.0+cabdd68) (1.4.0)\n",
      "Requirement already satisfied: pillow>=6.2.0 in /home/old-ufo/storage/anaconda3/envs/fastai2/lib/python3.7/site-packages (from kornia==0.2.0+cabdd68) (7.0.0)\n",
      "Building wheels for collected packages: kornia\n",
      "  Building wheel for kornia (setup.py) ... \u001b[?25ldone\n",
      "\u001b[?25h  Created wheel for kornia: filename=kornia-0.2.0+cabdd68-py2.py3-none-any.whl size=147068 sha256=190b5f08030b238e330fee0c433b98af2ee08c1deabc61e8703fc2d8e4f785fb\n",
      "  Stored in directory: /tmp/pip-ephem-wheel-cache-jw6uz2h_/wheels/08/7e/79/0985a0e702fa8496fd528e669e2ee369290c998348c7474147\n",
      "Successfully built kornia\n",
      "Requirement already satisfied: pytorch_metric_learning in /home/old-ufo/storage/anaconda3/envs/fastai2/lib/python3.7/site-packages (0.9.81)\n",
      "Requirement already satisfied: tqdm in /home/old-ufo/storage/anaconda3/envs/fastai2/lib/python3.7/site-packages (from pytorch_metric_learning) (4.43.0)\n",
      "Requirement already satisfied: torch in /home/old-ufo/storage/anaconda3/envs/fastai2/lib/python3.7/site-packages (from pytorch_metric_learning) (1.4.0)\n",
      "Requirement already satisfied: numpy in /home/old-ufo/storage/anaconda3/envs/fastai2/lib/python3.7/site-packages (from pytorch_metric_learning) (1.18.2)\n",
      "Requirement already satisfied: scikit-learn in /home/old-ufo/storage/anaconda3/envs/fastai2/lib/python3.7/site-packages (from pytorch_metric_learning) (0.22.2.post1)\n",
      "Requirement already satisfied: torchvision in /home/old-ufo/storage/anaconda3/envs/fastai2/lib/python3.7/site-packages (from pytorch_metric_learning) (0.5.0)\n",
      "Requirement already satisfied: joblib>=0.11 in /home/old-ufo/storage/anaconda3/envs/fastai2/lib/python3.7/site-packages (from scikit-learn->pytorch_metric_learning) (0.14.1)\n",
      "Requirement already satisfied: scipy>=0.17.0 in /home/old-ufo/storage/anaconda3/envs/fastai2/lib/python3.7/site-packages (from scikit-learn->pytorch_metric_learning) (1.4.1)\n",
      "Requirement already satisfied: six in /home/old-ufo/storage/anaconda3/envs/fastai2/lib/python3.7/site-packages (from torchvision->pytorch_metric_learning) (1.14.0)\n",
      "Requirement already satisfied: pillow>=4.1.1 in /home/old-ufo/storage/anaconda3/envs/fastai2/lib/python3.7/site-packages (from torchvision->pytorch_metric_learning) (7.0.0)\n"
     ]
    }
   ],
   "source": [
    "!pip install git+https://github.com/kornia/kornia@align_corners=False\n",
    "!pip install pytorch_metric_learning"
   ]
  },
  {
   "cell_type": "code",
   "execution_count": 1,
   "metadata": {},
   "outputs": [],
   "source": [
    "%matplotlib inline \n",
    "%load_ext autoreload\n",
    "%autoreload 2\n",
    "import random\n",
    "import numpy as np\n",
    "from fastprogress.fastprogress import master_bar, progress_bar\n",
    "from fastai2.basics import *\n",
    "from fastcore import *\n",
    "from fastai2.vision.all import *\n",
    "from fastai2.callback.all import *\n",
    "from fastprogress import fastprogress\n",
    "from fastai2.callback.mixup import *\n",
    "from fastscript import *\n",
    "import torchvision as tv\n",
    "import kornia as K\n",
    "\n",
    "def imshow_torch(tensor, *kwargs):\n",
    "    plt.figure()\n",
    "    plt.imshow(K.tensor_to_image(tensor), *kwargs)\n",
    "    return"
   ]
  },
  {
   "cell_type": "code",
   "execution_count": null,
   "metadata": {},
   "outputs": [],
   "source": []
  },
  {
   "cell_type": "code",
   "execution_count": null,
   "metadata": {},
   "outputs": [],
   "source": []
  },
  {
   "cell_type": "code",
   "execution_count": 2,
   "metadata": {},
   "outputs": [],
   "source": [
    "train_ds_name = 'liberty'\n",
    "val_ds_name = 'notredame'\n",
    "ds_root = '/home/old-ufo/storage/datasets/UBC-Phototour-Patches-Torch'"
   ]
  },
  {
   "cell_type": "markdown",
   "metadata": {},
   "source": [
    "First, we will define modified dataset to match HardNet implementation.\n",
    "Specifically, it generates pairs of the same-class images for the batch."
   ]
  },
  {
   "cell_type": "code",
   "execution_count": 3,
   "metadata": {},
   "outputs": [],
   "source": [
    "class PairPhotoTour(tv.datasets.PhotoTour):\n",
    "    \"\"\"\n",
    "    From the PhotoTour Dataset it generates pairs of same class in a batch\n",
    "    Based on code from https://github.com/vbalnt/tfeat\n",
    "    \"\"\"\n",
    "    def __init__(self,\n",
    "                 train_mode=True, # We need different behavoir for train and test mode\n",
    "                 bs = 1024, #batch size. There will be only 2 samples of same class in the batch.\n",
    "                 n_pairs = 1024*5000, #It is simple to have n_pairs to be divisible by bs\n",
    "                 *arg, **kw):\n",
    "        super(PairPhotoTour, self).__init__(*arg, **kw)\n",
    "        self.train_mode = train_mode\n",
    "        self.n_pairs = n_pairs\n",
    "        self.bs = bs\n",
    "        # Dict: indexes of the class samples by class label\n",
    "        self.indices_dict = self.create_indices(self.labels.numpy())\n",
    "        if self.train_mode:\n",
    "            self.generate_pairs()\n",
    "        return\n",
    "    \n",
    "    def create_indices(self, labels):\n",
    "        inds = dict()\n",
    "        for idx, ind in enumerate(labels):\n",
    "            if ind not in inds:\n",
    "                inds[ind] = []\n",
    "            inds[ind].append(idx)\n",
    "        return inds\n",
    "\n",
    "    def generate_pairs(self):\n",
    "        labels = self.labels\n",
    "        num_pairs = self.n_pairs\n",
    "        self.pairs = []\n",
    "        indices_dict = self.indices_dict\n",
    "        classes = np.unique(self.labels.numpy())\n",
    "        n_classes = classes.shape[0]\n",
    "        num_epochs = num_pairs // n_classes + 1\n",
    "        print('Generating {} pairs for training'.format(self.n_pairs))\n",
    "        for ep in progress_bar(range(num_epochs)):\n",
    "            classes_perm = np.random.permutation(classes)\n",
    "            for c in classes_perm:\n",
    "                samples_in_class = indices_dict[c]\n",
    "                if len(samples_in_class) > 2:\n",
    "                    random.shuffle(samples_in_class)\n",
    "                self.pairs.append([*samples_in_class[:2], c])\n",
    "        self.pairs = torch.LongTensor(self.pairs)[:num_pairs]\n",
    "        return \n",
    "\n",
    "    def __getitem__(self, index):\n",
    "        if not self.train_mode:\n",
    "            m = self.matches[index]\n",
    "            img1 = self.data[m[0]]\n",
    "            img2 = self.data[m[1]]\n",
    "            # Output: two concatenated  an match/non-match label, as definited in Brown at.al 2010\n",
    "            return img1.unsqueeze(0), img2.unsqueeze(0), m[2] \n",
    "        t = self.pairs[index]\n",
    "        img_a, img_p, label = self.data[t[0]], self.data[t[1]], t[2]\n",
    "        # Output: two concatenated images of the same class and class label\n",
    "        return img_a.unsqueeze(0), img_p.unsqueeze(0), label\n",
    "\n",
    "    def __len__(self):\n",
    "        if self.train_mode:\n",
    "            return self.pairs.size(0)\n",
    "        else:\n",
    "            return self.matches.size(0)"
   ]
  },
  {
   "cell_type": "markdown",
   "metadata": {},
   "source": [
    "We will do augmentation on GPU with [kornia](https://github.com/kornia/kornia)"
   ]
  },
  {
   "cell_type": "code",
   "execution_count": 4,
   "metadata": {},
   "outputs": [],
   "source": [
    "orig_size = 64\n",
    "out_size = 32\n",
    "sigma = orig_size / (2.*out_size)\n",
    "\n",
    "train_aug = nn.Sequential( \n",
    "    K.filters.GaussianBlur2d((7,7),(0.6,  0.6)), # Blur for proper downscale\n",
    "    torch.nn.ReplicationPad2d(8), # otherwise small black corners appear\n",
    "    K.augmentation.RandomAffine(degrees=(-5.0, 5.0),\n",
    "                                scale=(0.9, 1.0),\n",
    "                                shear=(5.0, 5.0),\n",
    "                                translate=(0.03, 0.03)),\n",
    "    K.augmentation.CenterCrop(orig_size),\n",
    "    K.Resize((out_size,out_size)))\n",
    "\n",
    "test_aug = nn.Sequential( \n",
    "    K.filters.GaussianBlur2d((7,7),(0.6,  0.6)), # Blur for proper downscale\n",
    "    K.Resize((out_size,out_size)))\n"
   ]
  },
  {
   "cell_type": "code",
   "execution_count": 5,
   "metadata": {},
   "outputs": [],
   "source": [
    "from fastai2  import *\n",
    "# We need to transform all images\n",
    "class TupleAug(ItemTransform):\n",
    "    def __init__(self, tfm):\n",
    "        self.tfm = tfm\n",
    "    def encodes(self, o): \n",
    "        out = []\n",
    "        with torch.no_grad():\n",
    "            for i,oi in enumerate(o):\n",
    "                if i < len(o) - 1:\n",
    "                    out.append(self.tfm(oi.float()))\n",
    "                else:\n",
    "                    out.append(oi)\n",
    "        return out\n",
    "class ReshapeTupleToBatch(ItemTransform):\n",
    "    def encodes(self, o): \n",
    "        return torch.cat(o[:-1],dim=0), o[-1].repeat(len(o)-1)    "
   ]
  },
  {
   "cell_type": "code",
   "execution_count": 6,
   "metadata": {},
   "outputs": [],
   "source": [
    "class BatchRandomFlip(ItemTransform):\n",
    "    def encodes(self, o): \n",
    "        mask = torch.randint_like(o[-1], 0,2) > 0\n",
    "        out = [] \n",
    "        with torch.no_grad():\n",
    "            for oi in o[:-1]:\n",
    "                out.append(oi)\n",
    "                out[-1].masked_scatter_(mask.view(-1,1,1,1), oi.flip(3))\n",
    "            mask2 = torch.randint_like(o[-1], 0,2) > 0\n",
    "            for i, oi in enumerate(out):\n",
    "                out[i].masked_scatter_(mask2.view(-1,1,1,1), oi[mask2].flip(3))\n",
    "        out.append(o[-1])\n",
    "        return out"
   ]
  },
  {
   "cell_type": "code",
   "execution_count": null,
   "metadata": {},
   "outputs": [],
   "source": []
  },
  {
   "cell_type": "markdown",
   "metadata": {},
   "source": [
    "Lets create data loaders"
   ]
  },
  {
   "cell_type": "code",
   "execution_count": 7,
   "metadata": {},
   "outputs": [
    {
     "name": "stdout",
     "output_type": "stream",
     "text": [
      "Generating 5120000 pairs for training\n"
     ]
    },
    {
     "data": {
      "text/html": [
       "\n",
       "    <div>\n",
       "        <style>\n",
       "            /* Turns off some styling */\n",
       "            progress {\n",
       "                /* gets rid of default border in Firefox and Opera. */\n",
       "                border: none;\n",
       "                /* Needs to be in here for Safari polyfill so background images work as expected. */\n",
       "                background-size: auto;\n",
       "            }\n",
       "            .progress-bar-interrupted, .progress-bar-interrupted::-webkit-progress-bar {\n",
       "                background: #F44336;\n",
       "            }\n",
       "        </style>\n",
       "      <progress value='32' class='' max='32', style='width:300px; height:20px; vertical-align: middle;'></progress>\n",
       "      100.00% [32/32 00:15<00:00]\n",
       "    </div>\n",
       "    "
      ],
      "text/plain": [
       "<IPython.core.display.HTML object>"
      ]
     },
     "metadata": {},
     "output_type": "display_data"
    },
    {
     "data": {
      "image/png": "[encoded data removed]",
      "text/plain": [
       "<Figure size 432x288 with 1 Axes>"
      ]
     },
     "metadata": {
      "needs_background": "light"
     },
     "output_type": "display_data"
    },
    {
     "data": {
      "image/png": "[encoded data removed]",
      "text/plain": [
       "<Figure size 432x288 with 1 Axes>"
      ]
     },
     "metadata": {
      "needs_background": "light"
     },
     "output_type": "display_data"
    }
   ],
   "source": [
    "BS = 1024\n",
    "TEST_BS = 128\n",
    "N_WORKERS = 4\n",
    "\n",
    "ds_train = PairPhotoTour(root=ds_root,\n",
    "                              name=train_ds_name,\n",
    "                              bs=BS,\n",
    "                              n_pairs=5000*BS,  \n",
    "                              train_mode=True)\n",
    "\n",
    "ds_val = PairPhotoTour(root=ds_root,\n",
    "                      name=val_ds_name,\n",
    "                      train_mode=False)\n",
    "\n",
    "dl_train = TfmdDL(ds_train,\n",
    "                 device=torch.device('cuda:0'),\n",
    "                 after_item=[ToTensor], \n",
    "                 after_batch=[TupleAug(train_aug), # augmening both patches in pair\n",
    "                              BatchRandomFlip,  # random flip\n",
    "                              ReshapeTupleToBatch], #two patches -> single tensor\n",
    "                 bs=BS, num_workers=N_WORKERS)\n",
    "\n",
    "dl_val = TfmdDL(ds_val,\n",
    "                 device=torch.device('cuda:0'),\n",
    "                 after_item=[ToTensor], \n",
    "                 after_batch=[TupleAug(test_aug), ReshapeTupleToBatch],\n",
    "                 bs=TEST_BS, num_workers=N_WORKERS)\n",
    "\n",
    "patches, labels  = dl_train.one_batch()\n",
    "\n",
    "imshow_torch(patches[0])\n",
    "imshow_torch(patches[0+BS])\n"
   ]
  },
  {
   "cell_type": "markdown",
   "metadata": {},
   "source": [
    "Now define HardNet model\n",
    "(https://arxiv.org/pdf/1705.10872.pdf)\n",
    "\n",
    "![image.png](training-hardnet-in-fastai2-with-kornia-aug_files/att_00000.png)\n"
   ]
  },
  {
   "cell_type": "code",
   "execution_count": 8,
   "metadata": {},
   "outputs": [],
   "source": [
    "#monkey patch (on my PC torch.qr outputs nans)\n",
    "def orthogonal_(tensor, gain=1):\n",
    "    r\"\"\"Fills the input `Tensor` with a (semi) orthogonal matrix, as\n",
    "    described in `Exact solutions to the nonlinear dynamics of learning in deep\n",
    "    linear neural networks` - Saxe, A. et al. (2013). The input tensor must have\n",
    "    at least 2 dimensions, and for tensors with more than 2 dimensions the\n",
    "    trailing dimensions are flattened.\n",
    "\n",
    "    Args:\n",
    "        tensor: an n-dimensional `torch.Tensor`, where :math:`n \\geq 2`\n",
    "        gain: optional scaling factor\n",
    "\n",
    "    Examples:\n",
    "        >>> w = torch.empty(3, 5)\n",
    "        >>> nn.init.orthogonal_(w)\n",
    "    \"\"\"\n",
    "    if tensor.ndimension() < 2:\n",
    "        raise ValueError(\"Only tensors with 2 or more dimensions are supported\")\n",
    "\n",
    "    rows = tensor.size(0)\n",
    "    cols = tensor.numel() // rows\n",
    "    flattened = tensor.new(rows, cols).normal_(0, 1)\n",
    "\n",
    "    if rows < cols:\n",
    "        flattened.t_()\n",
    "\n",
    "    # Compute the qr factorization\n",
    "    # Here is patch: use np.linalg.qr instead of torch.qr\n",
    "    q, r = np.linalg.qr(flattened)\n",
    "    r = torch.from_numpy(r)\n",
    "    q = torch.from_numpy(q)\n",
    "    # Make Q uniform according to https://arxiv.org/pdf/math-ph/0609050.pdf\n",
    "    d = torch.diag(r, 0)\n",
    "    ph = d.sign()\n",
    "    q *= ph\n",
    "\n",
    "    if rows < cols:\n",
    "        q.t_()\n",
    "\n",
    "    with torch.no_grad():\n",
    "        tensor.view_as(q).copy_(q)\n",
    "        tensor.mul_(gain)\n",
    "    return tensor\n",
    "torch.nn.init.orthogonal_ = orthogonal_"
   ]
  },
  {
   "cell_type": "code",
   "execution_count": 9,
   "metadata": {},
   "outputs": [],
   "source": [
    "class HardNet(nn.Module):\n",
    "    \"\"\"HardNet model definition\n",
    "    \"\"\"\n",
    "    def __init__(self):\n",
    "        super(HardNet, self).__init__()\n",
    "        self.features = nn.Sequential(\n",
    "            nn.Conv2d(1, 32, kernel_size=3, padding=1, bias = False),\n",
    "            nn.BatchNorm2d(32, affine=False),\n",
    "            nn.ReLU(),\n",
    "            nn.Conv2d(32, 32, kernel_size=3, padding=1, bias = False),\n",
    "            nn.BatchNorm2d(32, affine=False),\n",
    "            nn.ReLU(),\n",
    "            nn.Conv2d(32, 64, kernel_size=3, stride=2, padding=1, bias = False),\n",
    "            nn.BatchNorm2d(64, affine=False),\n",
    "            nn.ReLU(),\n",
    "            nn.Conv2d(64, 64, kernel_size=3, padding=1, bias = False),\n",
    "            nn.BatchNorm2d(64, affine=False),\n",
    "            nn.ReLU(),\n",
    "            nn.Conv2d(64, 128, kernel_size=3, stride=2,padding=1, bias = False),\n",
    "            nn.BatchNorm2d(128, affine=False),\n",
    "            nn.ReLU(),\n",
    "            nn.Conv2d(128, 128, kernel_size=3, padding=1, bias = False),\n",
    "            nn.BatchNorm2d(128, affine=False),\n",
    "            nn.ReLU(),\n",
    "            nn.Dropout(0.3),\n",
    "            nn.Conv2d(128, 128, kernel_size=8, bias = False),\n",
    "            nn.BatchNorm2d(128, affine=False),\n",
    "            Flatten()\n",
    "        )\n",
    "        self.features.apply(self.weights_init)\n",
    "        return\n",
    "    def input_norm(self, x):\n",
    "        std, mean = torch.std_mean(x, dim=(2,3), keepdim=True)\n",
    "        return (x - mean) / (std + 1e-7)\n",
    "    def weights_init(self, m):\n",
    "        if isinstance(m, nn.Linear) or isinstance(m, nn.Conv2d):\n",
    "            nn.init.orthogonal_(m.weight.data, gain=0.6)\n",
    "            print (m.weight.sum())\n",
    "            try:\n",
    "                nn.init.constant_(m.bias.data, 0.01)\n",
    "            except: pass\n",
    "        return\n",
    "    def forward(self, input):\n",
    "        x = self.features(self.input_norm(input))\n",
    "        return F.normalize(x, p=2, dim=1)"
   ]
  },
  {
   "cell_type": "markdown",
   "metadata": {},
   "source": [
    "Loss function: triplet margin loss with hard-in-batch mining.\n",
    "\n",
    "![image.png](training-hardnet-in-fastai2-with-kornia-aug_files/att_00001.png)\n",
    "\n",
    "We will use great repo by Kevin Musgrave.\n",
    "\n",
    "https://github.com/KevinMusgrave/pytorch-metric-learning"
   ]
  },
  {
   "cell_type": "code",
   "execution_count": 10,
   "metadata": {},
   "outputs": [],
   "source": [
    "# Loss function\n",
    "from pytorch_metric_learning import losses, miners\n",
    "\n",
    "LossFn = losses.TripletMarginLoss(margin = 1.0)\n",
    "Miner = miners.BatchHardMiner()\n",
    "\n",
    "def loss_hard_triplet_margin(x, y):\n",
    "    hard_pairs = Miner(x, y)\n",
    "    loss = LossFn(x, y, hard_pairs)\n",
    "    return loss"
   ]
  },
  {
   "cell_type": "markdown",
   "metadata": {},
   "source": [
    "Validation metric - False positive rate at recall = 95%"
   ]
  },
  {
   "cell_type": "code",
   "execution_count": 11,
   "metadata": {},
   "outputs": [],
   "source": [
    "#Original FPR95\n",
    "def ErrorRateAt95Recall(distances, labels):\n",
    "    '''From https://github.com/DagnyT/hardnet/blob/master/code/EvalMetrics.py'''\n",
    "    recall_point = 0.95\n",
    "    labels = labels[np.argsort(distances)]\n",
    "    # Sliding threshold: get first index where recall >= recall_point. \n",
    "    # This is the index where the number of elements with label==1 below the threshold reaches a fraction of \n",
    "    # 'recall_point' of the total number of elements with label==1. \n",
    "    # (np.argmax returns the first occurrence of a '1' in a bool array). \n",
    "    threshold_index = np.argmax(np.cumsum(labels) >= recall_point * np.sum(labels)) \n",
    "    FP = np.sum(labels[:threshold_index] == 0) # Below threshold (i.e., labelled positive), but should be negative\n",
    "    TN = np.sum(labels[threshold_index:] == 0) # Above threshold (i.e., labelled negative), and should be negative\n",
    "    return float(FP) / float(FP + TN)\n",
    "\n",
    "\n",
    "class FPR95(Metric):\n",
    "    \"Average the values of `func` taking into account potential different batch sizes\"\n",
    "    def reset(self):           self.dists, self.labels = [], []\n",
    "    def accumulate(self, learn):\n",
    "        x = learn.pred\n",
    "        N = x.size(0)\n",
    "        assert N % 2 == 0\n",
    "        N_2 = N // 2\n",
    "        targ = learn.yb[0][:N_2]\n",
    "        with torch.no_grad():\n",
    "            dist = torch.norm(x[:N_2]-x[N_2:],p=2,dim=1)\n",
    "        self.dists.append(dist.cpu().detach().view(-1))\n",
    "        self.labels.append(targ.cpu().detach().view(-1))\n",
    "        return\n",
    "    @property\n",
    "    def value(self):\n",
    "        if len(self.dists) == 0: return\n",
    "        if len(self.labels) == 0: return\n",
    "        dists = torch.cat(self.dists, dim=0)\n",
    "        labels = torch.cat(self.labels, dim=0)\n",
    "        return ErrorRateAt95Recall(dists.detach().cpu().view(-1).numpy(), labels.detach().cpu().view(-1).numpy())"
   ]
  },
  {
   "cell_type": "markdown",
   "metadata": {},
   "source": [
    "Original implementation regenerates random pairs before each epoch"
   ]
  },
  {
   "cell_type": "code",
   "execution_count": 12,
   "metadata": {},
   "outputs": [],
   "source": [
    "class RegeneratePairs(Callback):\n",
    "    def begin_train(self):\n",
    "        if learn.training and learn.epoch > 0:\n",
    "            learn.dls.train_ds.generate_pairs()"
   ]
  },
  {
   "cell_type": "markdown",
   "metadata": {},
   "source": [
    "Original paper uses SGD with momentum and dampening. We will give a shot with Adam"
   ]
  },
  {
   "cell_type": "code",
   "execution_count": 13,
   "metadata": {},
   "outputs": [
    {
     "name": "stdout",
     "output_type": "stream",
     "text": [
      "tensor(-1.6598, grad_fn=<SumBackward0>)\n",
      "tensor(-4.2974, grad_fn=<SumBackward0>)\n",
      "tensor(2.2643, grad_fn=<SumBackward0>)\n",
      "tensor(-0.4888, grad_fn=<SumBackward0>)\n",
      "tensor(-8.6757, grad_fn=<SumBackward0>)\n",
      "tensor(-1.3346, grad_fn=<SumBackward0>)\n",
      "tensor(0.2649, grad_fn=<SumBackward0>)\n"
     ]
    }
   ],
   "source": [
    "data = DataLoaders(dl_train, dl_val).cuda()\n",
    "model = HardNet()\n",
    "learn = Learner(data, model,\n",
    "                loss_func=loss_hard_triplet_margin,\n",
    "                metrics=[FPR95()], cbs=[RegeneratePairs()],\n",
    "                wd=1e-4)"
   ]
  },
  {
   "cell_type": "code",
   "execution_count": 14,
   "metadata": {},
   "outputs": [
    {
     "data": {
      "text/html": [
       "<table border=\"1\" class=\"dataframe\">\n",
       "  <thead>\n",
       "    <tr style=\"text-align: left;\">\n",
       "      <th>epoch</th>\n",
       "      <th>train_loss</th>\n",
       "      <th>valid_loss</th>\n",
       "      <th>fpr95</th>\n",
       "      <th>time</th>\n",
       "    </tr>\n",
       "  </thead>\n",
       "  <tbody>\n",
       "    <tr>\n",
       "      <td>0</td>\n",
       "      <td>0.931707</td>\n",
       "      <td>1.531047</td>\n",
       "      <td>0.011140</td>\n",
       "      <td>23:47</td>\n",
       "    </tr>\n",
       "    <tr>\n",
       "      <td>1</td>\n",
       "      <td>0.927906</td>\n",
       "      <td>1.527577</td>\n",
       "      <td>0.011140</td>\n",
       "      <td>23:41</td>\n",
       "    </tr>\n",
       "    <tr>\n",
       "      <td>2</td>\n",
       "      <td>0.928431</td>\n",
       "      <td>1.518422</td>\n",
       "      <td>0.011200</td>\n",
       "      <td>23:25</td>\n",
       "    </tr>\n",
       "    <tr>\n",
       "      <td>3</td>\n",
       "      <td>0.925210</td>\n",
       "      <td>1.534905</td>\n",
       "      <td>0.014100</td>\n",
       "      <td>23:17</td>\n",
       "    </tr>\n",
       "    <tr>\n",
       "      <td>4</td>\n",
       "      <td>0.920034</td>\n",
       "      <td>1.519193</td>\n",
       "      <td>0.009000</td>\n",
       "      <td>23:33</td>\n",
       "    </tr>\n",
       "    <tr>\n",
       "      <td>5</td>\n",
       "      <td>0.914542</td>\n",
       "      <td>1.520321</td>\n",
       "      <td>0.010640</td>\n",
       "      <td>23:13</td>\n",
       "    </tr>\n",
       "    <tr>\n",
       "      <td>6</td>\n",
       "      <td>0.908269</td>\n",
       "      <td>1.513802</td>\n",
       "      <td>0.009660</td>\n",
       "      <td>23:16</td>\n",
       "    </tr>\n",
       "    <tr>\n",
       "      <td>7</td>\n",
       "      <td>0.895341</td>\n",
       "      <td>1.503396</td>\n",
       "      <td>0.005860</td>\n",
       "      <td>23:14</td>\n",
       "    </tr>\n",
       "    <tr>\n",
       "      <td>8</td>\n",
       "      <td>0.884706</td>\n",
       "      <td>1.500254</td>\n",
       "      <td>0.006120</td>\n",
       "      <td>23:15</td>\n",
       "    </tr>\n",
       "    <tr>\n",
       "      <td>9</td>\n",
       "      <td>0.878264</td>\n",
       "      <td>1.496547</td>\n",
       "      <td>0.005600</td>\n",
       "      <td>23:14</td>\n",
       "    </tr>\n",
       "  </tbody>\n",
       "</table>"
      ],
      "text/plain": [
       "<IPython.core.display.HTML object>"
      ]
     },
     "metadata": {},
     "output_type": "display_data"
    },
    {
     "name": "stdout",
     "output_type": "stream",
     "text": [
      "Generating 5120000 pairs for training\n"
     ]
    },
    {
     "data": {
      "text/html": [
       "\n",
       "    <div>\n",
       "        <style>\n",
       "            /* Turns off some styling */\n",
       "            progress {\n",
       "                /* gets rid of default border in Firefox and Opera. */\n",
       "                border: none;\n",
       "                /* Needs to be in here for Safari polyfill so background images work as expected. */\n",
       "                background-size: auto;\n",
       "            }\n",
       "            .progress-bar-interrupted, .progress-bar-interrupted::-webkit-progress-bar {\n",
       "                background: #F44336;\n",
       "            }\n",
       "        </style>\n",
       "      <progress value='32' class='' max='32', style='width:300px; height:20px; vertical-align: middle;'></progress>\n",
       "      100.00% [32/32 00:13<00:00]\n",
       "    </div>\n",
       "    "
      ],
      "text/plain": [
       "<IPython.core.display.HTML object>"
      ]
     },
     "metadata": {},
     "output_type": "display_data"
    },
    {
     "name": "stdout",
     "output_type": "stream",
     "text": [
      "Generating 5120000 pairs for training\n"
     ]
    },
    {
     "data": {
      "text/html": [
       "\n",
       "    <div>\n",
       "        <style>\n",
       "            /* Turns off some styling */\n",
       "            progress {\n",
       "                /* gets rid of default border in Firefox and Opera. */\n",
       "                border: none;\n",
       "                /* Needs to be in here for Safari polyfill so background images work as expected. */\n",
       "                background-size: auto;\n",
       "            }\n",
       "            .progress-bar-interrupted, .progress-bar-interrupted::-webkit-progress-bar {\n",
       "                background: #F44336;\n",
       "            }\n",
       "        </style>\n",
       "      <progress value='32' class='' max='32', style='width:300px; height:20px; vertical-align: middle;'></progress>\n",
       "      100.00% [32/32 00:13<00:00]\n",
       "    </div>\n",
       "    "
      ],
      "text/plain": [
       "<IPython.core.display.HTML object>"
      ]
     },
     "metadata": {},
     "output_type": "display_data"
    },
    {
     "name": "stdout",
     "output_type": "stream",
     "text": [
      "Generating 5120000 pairs for training\n"
     ]
    },
    {
     "data": {
      "text/html": [
       "\n",
       "    <div>\n",
       "        <style>\n",
       "            /* Turns off some styling */\n",
       "            progress {\n",
       "                /* gets rid of default border in Firefox and Opera. */\n",
       "                border: none;\n",
       "                /* Needs to be in here for Safari polyfill so background images work as expected. */\n",
       "                background-size: auto;\n",
       "            }\n",
       "            .progress-bar-interrupted, .progress-bar-interrupted::-webkit-progress-bar {\n",
       "                background: #F44336;\n",
       "            }\n",
       "        </style>\n",
       "      <progress value='32' class='' max='32', style='width:300px; height:20px; vertical-align: middle;'></progress>\n",
       "      100.00% [32/32 00:13<00:00]\n",
       "    </div>\n",
       "    "
      ],
      "text/plain": [
       "<IPython.core.display.HTML object>"
      ]
     },
     "metadata": {},
     "output_type": "display_data"
    },
    {
     "name": "stdout",
     "output_type": "stream",
     "text": [
      "Generating 5120000 pairs for training\n"
     ]
    },
    {
     "data": {
      "text/html": [
       "\n",
       "    <div>\n",
       "        <style>\n",
       "            /* Turns off some styling */\n",
       "            progress {\n",
       "                /* gets rid of default border in Firefox and Opera. */\n",
       "                border: none;\n",
       "                /* Needs to be in here for Safari polyfill so background images work as expected. */\n",
       "                background-size: auto;\n",
       "            }\n",
       "            .progress-bar-interrupted, .progress-bar-interrupted::-webkit-progress-bar {\n",
       "                background: #F44336;\n",
       "            }\n",
       "        </style>\n",
       "      <progress value='32' class='' max='32', style='width:300px; height:20px; vertical-align: middle;'></progress>\n",
       "      100.00% [32/32 00:14<00:00]\n",
       "    </div>\n",
       "    "
      ],
      "text/plain": [
       "<IPython.core.display.HTML object>"
      ]
     },
     "metadata": {},
     "output_type": "display_data"
    },
    {
     "name": "stdout",
     "output_type": "stream",
     "text": [
      "Generating 5120000 pairs for training\n"
     ]
    },
    {
     "data": {
      "text/html": [
       "\n",
       "    <div>\n",
       "        <style>\n",
       "            /* Turns off some styling */\n",
       "            progress {\n",
       "                /* gets rid of default border in Firefox and Opera. */\n",
       "                border: none;\n",
       "                /* Needs to be in here for Safari polyfill so background images work as expected. */\n",
       "                background-size: auto;\n",
       "            }\n",
       "            .progress-bar-interrupted, .progress-bar-interrupted::-webkit-progress-bar {\n",
       "                background: #F44336;\n",
       "            }\n",
       "        </style>\n",
       "      <progress value='32' class='' max='32', style='width:300px; height:20px; vertical-align: middle;'></progress>\n",
       "      100.00% [32/32 00:13<00:00]\n",
       "    </div>\n",
       "    "
      ],
      "text/plain": [
       "<IPython.core.display.HTML object>"
      ]
     },
     "metadata": {},
     "output_type": "display_data"
    },
    {
     "name": "stdout",
     "output_type": "stream",
     "text": [
      "Generating 5120000 pairs for training\n"
     ]
    },
    {
     "data": {
      "text/html": [
       "\n",
       "    <div>\n",
       "        <style>\n",
       "            /* Turns off some styling */\n",
       "            progress {\n",
       "                /* gets rid of default border in Firefox and Opera. */\n",
       "                border: none;\n",
       "                /* Needs to be in here for Safari polyfill so background images work as expected. */\n",
       "                background-size: auto;\n",
       "            }\n",
       "            .progress-bar-interrupted, .progress-bar-interrupted::-webkit-progress-bar {\n",
       "                background: #F44336;\n",
       "            }\n",
       "        </style>\n",
       "      <progress value='32' class='' max='32', style='width:300px; height:20px; vertical-align: middle;'></progress>\n",
       "      100.00% [32/32 00:13<00:00]\n",
       "    </div>\n",
       "    "
      ],
      "text/plain": [
       "<IPython.core.display.HTML object>"
      ]
     },
     "metadata": {},
     "output_type": "display_data"
    },
    {
     "name": "stdout",
     "output_type": "stream",
     "text": [
      "Generating 5120000 pairs for training\n"
     ]
    },
    {
     "data": {
      "text/html": [
       "\n",
       "    <div>\n",
       "        <style>\n",
       "            /* Turns off some styling */\n",
       "            progress {\n",
       "                /* gets rid of default border in Firefox and Opera. */\n",
       "                border: none;\n",
       "                /* Needs to be in here for Safari polyfill so background images work as expected. */\n",
       "                background-size: auto;\n",
       "            }\n",
       "            .progress-bar-interrupted, .progress-bar-interrupted::-webkit-progress-bar {\n",
       "                background: #F44336;\n",
       "            }\n",
       "        </style>\n",
       "      <progress value='32' class='' max='32', style='width:300px; height:20px; vertical-align: middle;'></progress>\n",
       "      100.00% [32/32 00:13<00:00]\n",
       "    </div>\n",
       "    "
      ],
      "text/plain": [
       "<IPython.core.display.HTML object>"
      ]
     },
     "metadata": {},
     "output_type": "display_data"
    },
    {
     "name": "stdout",
     "output_type": "stream",
     "text": [
      "Generating 5120000 pairs for training\n"
     ]
    },
    {
     "data": {
      "text/html": [
       "\n",
       "    <div>\n",
       "        <style>\n",
       "            /* Turns off some styling */\n",
       "            progress {\n",
       "                /* gets rid of default border in Firefox and Opera. */\n",
       "                border: none;\n",
       "                /* Needs to be in here for Safari polyfill so background images work as expected. */\n",
       "                background-size: auto;\n",
       "            }\n",
       "            .progress-bar-interrupted, .progress-bar-interrupted::-webkit-progress-bar {\n",
       "                background: #F44336;\n",
       "            }\n",
       "        </style>\n",
       "      <progress value='32' class='' max='32', style='width:300px; height:20px; vertical-align: middle;'></progress>\n",
       "      100.00% [32/32 00:14<00:00]\n",
       "    </div>\n",
       "    "
      ],
      "text/plain": [
       "<IPython.core.display.HTML object>"
      ]
     },
     "metadata": {},
     "output_type": "display_data"
    },
    {
     "name": "stdout",
     "output_type": "stream",
     "text": [
      "Generating 5120000 pairs for training\n"
     ]
    },
    {
     "data": {
      "text/html": [
       "\n",
       "    <div>\n",
       "        <style>\n",
       "            /* Turns off some styling */\n",
       "            progress {\n",
       "                /* gets rid of default border in Firefox and Opera. */\n",
       "                border: none;\n",
       "                /* Needs to be in here for Safari polyfill so background images work as expected. */\n",
       "                background-size: auto;\n",
       "            }\n",
       "            .progress-bar-interrupted, .progress-bar-interrupted::-webkit-progress-bar {\n",
       "                background: #F44336;\n",
       "            }\n",
       "        </style>\n",
       "      <progress value='32' class='' max='32', style='width:300px; height:20px; vertical-align: middle;'></progress>\n",
       "      100.00% [32/32 00:12<00:00]\n",
       "    </div>\n",
       "    "
      ],
      "text/plain": [
       "<IPython.core.display.HTML object>"
      ]
     },
     "metadata": {},
     "output_type": "display_data"
    }
   ],
   "source": [
    "learn.fit_one_cycle(10, 10.0)"
   ]
  },
  {
   "cell_type": "markdown",
   "metadata": {},
   "source": [
    "That's all. Now we can save our model"
   ]
  },
  {
   "cell_type": "code",
   "execution_count": 15,
   "metadata": {},
   "outputs": [],
   "source": [
    "learn.save('HardNetLib_fastai2KorniaAug')"
   ]
  },
  {
   "cell_type": "code",
   "execution_count": null,
   "metadata": {
    "scrolled": false
   },
   "outputs": [],
   "source": []
  },
  {
   "cell_type": "code",
   "execution_count": null,
   "metadata": {},
   "outputs": [],
   "source": []
  }
 ],
 "metadata": {
  "kernelspec": {
   "display_name": "Python 3",
   "language": "python",
   "name": "python3"
  },
  "language_info": {
   "codemirror_mode": {
    "name": "ipython",
    "version": 3
   },
   "file_extension": ".py",
   "mimetype": "text/x-python",
   "name": "python",
   "nbconvert_exporter": "python",
   "pygments_lexer": "ipython3",
   "version": "3.7.6"
  }
 },
 "nbformat": 4,
 "nbformat_minor": 4
}
